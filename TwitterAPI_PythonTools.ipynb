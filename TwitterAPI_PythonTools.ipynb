{
 "cells": [
  {
   "cell_type": "code",
   "execution_count": null,
   "metadata": {},
   "outputs": [],
   "source": [
    "import requests\n",
    "import json"
   ]
  },
  {
   "cell_type": "code",
   "execution_count": null,
   "metadata": {},
   "outputs": [],
   "source": [
    "import sys\n",
    "!{sys.executable} -m pip install requests_oauthlib\n",
    "\n",
    "from requests_oauthlib import OAuth1"
   ]
  },
  {
   "cell_type": "code",
   "execution_count": null,
   "metadata": {},
   "outputs": [],
   "source": [
    "\n",
    "# Let's define consumer and access keys and secrets for getting access to Twitter API through your application\n",
    "consumer_key = ''\n",
    "consumer_secret =''\n",
    "access_token = ''\n",
    "access_secret = ''\n",
    "\n",
    "# You will authenticate yourself using OAuth1 object\n",
    "auth = OAuth1(consumer_key, consumer_secret, access_token, access_secret)\n",
    "print(auth)"
   ]
  },
  {
   "cell_type": "code",
   "execution_count": null,
   "metadata": {},
   "outputs": [],
   "source": [
    "print(auth.client)"
   ]
  },
  {
   "cell_type": "code",
   "execution_count": null,
   "metadata": {},
   "outputs": [],
   "source": [
    "# If the authentication was successful, you should see the name of the account print(out)\n",
    "url_0 = 'https://api.twitter.com/1.1/account/verify_credentials.json'\n",
    "res = requests.get(url_0, auth=auth)\n",
    "\n",
    "print(\"My name is\", res.json()[\"name\"])\n",
    "print(\"I have\", res.json()[\"followers_count\"], \"followers! Yeah!\")\n"
   ]
  },
  {
   "cell_type": "code",
   "execution_count": null,
   "metadata": {},
   "outputs": [],
   "source": [
    "res.json().keys()"
   ]
  },
  {
   "cell_type": "code",
   "execution_count": null,
   "metadata": {},
   "outputs": [],
   "source": [
    "res.json()['following']"
   ]
  },
  {
   "cell_type": "code",
   "execution_count": null,
   "metadata": {},
   "outputs": [],
   "source": [
    "url_1 = 'https://api.twitter.com/1.1/statuses/home_timeline.json'\n",
    "res = requests.get(url_1, auth=auth, params={\"count\": 5})\n",
    "\n",
    "print(res, \"Status code:\", res.status_code)\n",
    "# Let's see how looks the url\n",
    "print(res.url)\n",
    "print(\"Content type:\", res.headers['content-type'], '\\n')\n",
    "\n",
    "tweets = res.json()\n",
    "if res.status_code == 200:\n",
    "    for tweet in tweets:\n",
    "        print(\"* \", tweet['text'])\n",
    "        print(\"----------------------------------\")"
   ]
  }
 ],
 "metadata": {
  "kernelspec": {
   "display_name": "Python 3",
   "language": "python",
   "name": "python3"
  },
  "language_info": {
   "codemirror_mode": {
    "name": "ipython",
    "version": 3
   },
   "file_extension": ".py",
   "mimetype": "text/x-python",
   "name": "python",
   "nbconvert_exporter": "python",
   "pygments_lexer": "ipython3",
   "version": "3.6.6"
  }
 },
 "nbformat": 4,
 "nbformat_minor": 2
}
