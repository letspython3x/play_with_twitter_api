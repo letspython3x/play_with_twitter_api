{
 "cells": [
  {
   "cell_type": "code",
   "execution_count": 2,
   "metadata": {},
   "outputs": [
    {
     "name": "stdout",
     "output_type": "stream",
     "text": [
      "Collecting requests_oauthlib\n",
      "  Downloading https://files.pythonhosted.org/packages/94/e7/c250d122992e1561690d9c0f7856dadb79d61fd4bdd0e598087dce607f6c/requests_oauthlib-1.0.0-py2.py3-none-any.whl\n",
      "Collecting oauthlib>=0.6.2 (from requests_oauthlib)\n",
      "\u001b[?25l  Downloading https://files.pythonhosted.org/packages/e6/d1/ddd9cfea3e736399b97ded5c2dd62d1322adef4a72d816f1ed1049d6a179/oauthlib-2.1.0-py2.py3-none-any.whl (121kB)\n",
      "\u001b[K    100% |████████████████████████████████| 122kB 146kB/s ta 0:00:01\n",
      "\u001b[?25hRequirement already satisfied: requests>=2.0.0 in /home/ab.gupta1/anaconda3/lib/python3.6/site-packages (from requests_oauthlib) (2.18.4)\n",
      "Requirement already satisfied: chardet<3.1.0,>=3.0.2 in /home/ab.gupta1/anaconda3/lib/python3.6/site-packages (from requests>=2.0.0->requests_oauthlib) (3.0.4)\n",
      "Requirement already satisfied: idna<2.7,>=2.5 in /home/ab.gupta1/anaconda3/lib/python3.6/site-packages (from requests>=2.0.0->requests_oauthlib) (2.6)\n",
      "Requirement already satisfied: urllib3<1.23,>=1.21.1 in /home/ab.gupta1/anaconda3/lib/python3.6/site-packages (from requests>=2.0.0->requests_oauthlib) (1.22)\n",
      "Requirement already satisfied: certifi>=2017.4.17 in /home/ab.gupta1/anaconda3/lib/python3.6/site-packages (from requests>=2.0.0->requests_oauthlib) (2018.4.16)\n",
      "\u001b[31mdistributed 1.21.8 requires msgpack, which is not installed.\u001b[0m\n",
      "Installing collected packages: oauthlib, requests-oauthlib\n",
      "Successfully installed oauthlib-2.1.0 requests-oauthlib-1.0.0\n",
      "\u001b[33mYou are using pip version 10.0.1, however version 18.0 is available.\n",
      "You should consider upgrading via the 'pip install --upgrade pip' command.\u001b[0m\n"
     ]
    }
   ],
   "source": [
    "import requests\n",
    "import sys\n",
    "!{sys.executable} -m pip install requests_oauthlib\n",
    "\n",
    "from requests_oauthlib import OAuth1\n"
   ]
  },
  {
   "cell_type": "code",
   "execution_count": 3,
   "metadata": {},
   "outputs": [
    {
     "name": "stdout",
     "output_type": "stream",
     "text": [
      "<requests_oauthlib.oauth1_auth.OAuth1 object at 0x7f11e824eb38>\n"
     ]
    }
   ],
   "source": [
    "\n",
    "import json\n",
    "\n",
    "# Let's define consumer and access keys and secrets for getting access to Twitter API through your application\n",
    "consumer_key = 'ghAg2M4eYrgM2f9J4uvJMo628'\n",
    "consumer_secret = 'Qku04FNhB3GNk2co33gG40aRTrJVBH46LGWcMVc0Yu9AQApGUk'\n",
    "access_token = '3866259732-dYyaE1xRjvoDhjkbhwD4jWS8oefMNuXw91ECPwC'\n",
    "access_secret = 'gZ4TBWNyzLoI85ToSlMHMIbz6aC1T7FZ7mxSFWI6NR2Zr'\n",
    "\n",
    "# You will authenticate yourself using OAuth1 object\n",
    "auth = OAuth1(consumer_key, consumer_secret, access_token, access_secret)\n",
    "print(auth)"
   ]
  },
  {
   "cell_type": "code",
   "execution_count": 4,
   "metadata": {},
   "outputs": [
    {
     "name": "stdout",
     "output_type": "stream",
     "text": [
      "<Client client_key=ghAg2M4eYrgM2f9J4uvJMo628, client_secret=****, resource_owner_key=3866259732-dYyaE1xRjvoDhjkbhwD4jWS8oefMNuXw91ECPwC, resource_owner_secret=****, signature_method=HMAC-SHA1, signature_type=AUTH_HEADER, callback_uri=None, rsa_key=None, verifier=None, realm=None, encoding=utf-8, decoding=utf-8, nonce=None, timestamp=None>\n"
     ]
    }
   ],
   "source": [
    "print(auth.client)"
   ]
  },
  {
   "cell_type": "code",
   "execution_count": 6,
   "metadata": {},
   "outputs": [
    {
     "name": "stdout",
     "output_type": "stream",
     "text": [
      "My name is Nimita Singh\n",
      "I have 0 followers! Yeah!\n"
     ]
    }
   ],
   "source": [
    "# If the authentication was successful, you should see the name of the account print(out)\n",
    "url_0 = 'https://api.twitter.com/1.1/account/verify_credentials.json'\n",
    "res = requests.get(url_0, auth=auth)\n",
    "\n",
    "print(\"My name is\", res.json()[\"name\"])\n",
    "print(\"I have\", res.json()[\"followers_count\"], \"followers! Yeah!\")\n"
   ]
  },
  {
   "cell_type": "code",
   "execution_count": 8,
   "metadata": {},
   "outputs": [
    {
     "data": {
      "text/plain": [
       "dict_keys(['id', 'id_str', 'name', 'screen_name', 'location', 'description', 'url', 'entities', 'protected', 'followers_count', 'friends_count', 'listed_count', 'created_at', 'favourites_count', 'utc_offset', 'time_zone', 'geo_enabled', 'verified', 'statuses_count', 'lang', 'status', 'contributors_enabled', 'is_translator', 'is_translation_enabled', 'profile_background_color', 'profile_background_image_url', 'profile_background_image_url_https', 'profile_background_tile', 'profile_image_url', 'profile_image_url_https', 'profile_link_color', 'profile_sidebar_border_color', 'profile_sidebar_fill_color', 'profile_text_color', 'profile_use_background_image', 'has_extended_profile', 'default_profile', 'default_profile_image', 'following', 'follow_request_sent', 'notifications', 'translator_type', 'suspended', 'needs_phone_verification'])"
      ]
     },
     "execution_count": 8,
     "metadata": {},
     "output_type": "execute_result"
    }
   ],
   "source": [
    "res.json().keys()"
   ]
  },
  {
   "cell_type": "code",
   "execution_count": 11,
   "metadata": {},
   "outputs": [
    {
     "data": {
      "text/plain": [
       "False"
      ]
     },
     "execution_count": 11,
     "metadata": {},
     "output_type": "execute_result"
    }
   ],
   "source": [
    "res.json()['following']"
   ]
  },
  {
   "cell_type": "code",
   "execution_count": 13,
   "metadata": {},
   "outputs": [
    {
     "name": "stdout",
     "output_type": "stream",
     "text": [
      "<Response [200]> Status code: 200\n",
      "https://api.twitter.com/1.1/statuses/home_timeline.json?count=5\n",
      "Content type: application/json;charset=utf-8 \n",
      "\n",
      "*  Children born aboard floating hospital in quake aftermath https://t.co/sowk9vvoJr via @TOIWorld https://t.co/OOGqhTGjEw\n",
      "----------------------------------\n",
      "*  The Southern Railway Saturday said it has become \"Unmanned Level Crossing (UMLC) Free Zone,\" by implementing a 2010… https://t.co/HbXPDegkEA\n",
      "----------------------------------\n",
      "*  Madhya Pradesh elections: Congress demands free, fair polls, BJP promises prosperous state https://t.co/26mp3qxBSR https://t.co/OkYLoBHhdS\n",
      "----------------------------------\n",
      "*  The advent of the festive season has brought good luck for the @BJP4India https://t.co/7Q98o9pDU4\n",
      "----------------------------------\n",
      "*  RT @arjunkakar: @virsanghvi @Priyascorner @BARCIndia @CNNnews18 @chetandhalla @anuradhasays Don't know about ratings but it is the best int…\n",
      "----------------------------------\n"
     ]
    }
   ],
   "source": [
    "url_1 = 'https://api.twitter.com/1.1/statuses/home_timeline.json'\n",
    "res = requests.get(url_1, auth=auth, params={\"count\": 5})\n",
    "\n",
    "# The res object encapsulates the \"response\" of the server. Notice the status code that is displayed. \n",
    "# Code 200 means that things went fine\n",
    "# Code 403 means that the server understood the request, but is refusing to fulfill it\n",
    "# Code 404 means that the URL was not found\n",
    "# Codes 5xx mean that something went wrong\n",
    "\n",
    "print(res, \"Status code:\", res.status_code)\n",
    "# Let's see how looks the url\n",
    "print(res.url)\n",
    "print(\"Content type:\", res.headers['content-type'], '\\n')\n",
    "\n",
    "tweets = res.json()\n",
    "if res.status_code == 200:\n",
    "    for tweet in tweets:\n",
    "        print(\"* \", tweet['text'])\n",
    "        print(\"----------------------------------\")\n",
    "else:   # You have no tweets\n",
    "    pass"
   ]
  }
 ],
 "metadata": {
  "kernelspec": {
   "display_name": "Python 3",
   "language": "python",
   "name": "python3"
  },
  "language_info": {
   "codemirror_mode": {
    "name": "ipython",
    "version": 3
   },
   "file_extension": ".py",
   "mimetype": "text/x-python",
   "name": "python",
   "nbconvert_exporter": "python",
   "pygments_lexer": "ipython3",
   "version": "3.6.5"
  }
 },
 "nbformat": 4,
 "nbformat_minor": 2
}
